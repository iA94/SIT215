{
 "cells": [
  {
   "cell_type": "code",
   "execution_count": 1,
   "metadata": {},
   "outputs": [],
   "source": [
    "import numpy as np\n",
    "import gym\n",
    "import matplotlib.pyplot as plt\n",
    "\n",
    "## you can't have dictionary that maps continuous values as keys so we have to convert continuos values into discrete ones.we\n",
    "## Going to use numpy for that.Particular two separate functions that us called linspace() creates a linear space where you\n",
    "## Specify two end points and number of buckets you want and it will create a set of buckets within that interval so you can\n",
    "## take an observation and place one of those buckets.That will convert a continuous number into discrete one.\n",
    "## The inverse function of that is digitized anf that actually does that operation where it takes buckets and observations \n",
    "## and tells which bucket that observation fall into."
   ]
  },
  {
   "cell_type": "code",
   "execution_count": 2,
   "metadata": {},
   "outputs": [],
   "source": [
    "position_space = np.linspace(-1.2, 0.6, 20)   ## 20 Buckets\n",
    "velocity_space = np.linspace(-0.07, 0.07, 20) ## 20 Buckets\n",
    "\n"
   ]
  },
  {
   "cell_type": "code",
   "execution_count": 3,
   "metadata": {},
   "outputs": [],
   "source": [
    "## Now we will create Inverse Function that takes an observation and returns a state.\n",
    "\n",
    "def get_state(observation):\n",
    "    position, velocity = observation\n",
    "    position_bin = np.digitize(position, position_space)\n",
    "    velocity_bin = np.digitize(velocity, velocity_space)\n",
    "    \n",
    "    return (position_bin, velocity_bin)\n",
    "## We send an observation which is list two numbers that are continuous and we end up with two integers on the output."
   ]
  },
  {
   "cell_type": "code",
   "execution_count": 4,
   "metadata": {},
   "outputs": [
    {
     "name": "stdout",
     "output_type": "stream",
     "text": [
      "Episode  1000 Score  -200.0 epsilon %.3f 0.95999999999996\n",
      "Episode  2000 Score  -200.0 epsilon %.3f 0.91999999999992\n",
      "Episode  3000 Score  -200.0 epsilon %.3f 0.87999999999988\n",
      "Episode  4000 Score  -200.0 epsilon %.3f 0.83999999999984\n",
      "Episode  5000 Score  -200.0 epsilon %.3f 0.7999999999998\n",
      "Episode  6000 Score  -200.0 epsilon %.3f 0.75999999999976\n",
      "Episode  7000 Score  -200.0 epsilon %.3f 0.71999999999972\n",
      "Episode  8000 Score  -200.0 epsilon %.3f 0.67999999999968\n",
      "Episode  9000 Score  -200.0 epsilon %.3f 0.63999999999964\n",
      "Episode  10000 Score  -200.0 epsilon %.3f 0.5999999999996\n",
      "Episode  11000 Score  -200.0 epsilon %.3f 0.55999999999956\n",
      "Episode  12000 Score  -200.0 epsilon %.3f 0.51999999999952\n",
      "Episode  13000 Score  -200.0 epsilon %.3f 0.47999999999950776\n",
      "Episode  14000 Score  -200.0 epsilon %.3f 0.4399999999995233\n",
      "Episode  15000 Score  -200.0 epsilon %.3f 0.3999999999995388\n",
      "Episode  16000 Score  -200.0 epsilon %.3f 0.3599999999995543\n",
      "Episode  17000 Score  -200.0 epsilon %.3f 0.3199999999995698\n",
      "Episode  18000 Score  -169.0 epsilon %.3f 0.2799999999995853\n",
      "Episode  19000 Score  -161.0 epsilon %.3f 0.23999999999959384\n",
      "Episode  20000 Score  -200.0 epsilon %.3f 0.1999999999995816\n",
      "Episode  21000 Score  -179.0 epsilon %.3f 0.15999999999956935\n",
      "Episode  22000 Score  -200.0 epsilon %.3f 0.11999999999955885\n",
      "Episode  23000 Score  -188.0 epsilon %.3f 0.07999999999956048\n",
      "Episode  24000 Score  -133.0 epsilon %.3f 0.03999999999956211\n",
      "Episode  25000 Score  -187.0 epsilon %.3f 0.01\n",
      "Episode  26000 Score  -133.0 epsilon %.3f 0.01\n",
      "Episode  27000 Score  -134.0 epsilon %.3f 0.01\n",
      "Episode  28000 Score  -145.0 epsilon %.3f 0.01\n",
      "Episode  29000 Score  -150.0 epsilon %.3f 0.01\n",
      "Episode  30000 Score  -146.0 epsilon %.3f 0.01\n",
      "Episode  31000 Score  -128.0 epsilon %.3f 0.01\n",
      "Episode  32000 Score  -134.0 epsilon %.3f 0.01\n",
      "Episode  33000 Score  -125.0 epsilon %.3f 0.01\n",
      "Episode  34000 Score  -152.0 epsilon %.3f 0.01\n",
      "Episode  35000 Score  -148.0 epsilon %.3f 0.01\n",
      "Episode  36000 Score  -154.0 epsilon %.3f 0.01\n",
      "Episode  37000 Score  -110.0 epsilon %.3f 0.01\n",
      "Episode  38000 Score  -137.0 epsilon %.3f 0.01\n",
      "Episode  39000 Score  -138.0 epsilon %.3f 0.01\n",
      "Episode  40000 Score  -143.0 epsilon %.3f 0.01\n",
      "Episode  41000 Score  -160.0 epsilon %.3f 0.01\n",
      "Episode  42000 Score  -148.0 epsilon %.3f 0.01\n",
      "Episode  43000 Score  -200.0 epsilon %.3f 0.01\n",
      "Episode  44000 Score  -137.0 epsilon %.3f 0.01\n",
      "Episode  45000 Score  -137.0 epsilon %.3f 0.01\n",
      "Episode  46000 Score  -140.0 epsilon %.3f 0.01\n",
      "Episode  47000 Score  -136.0 epsilon %.3f 0.01\n",
      "Episode  48000 Score  -142.0 epsilon %.3f 0.01\n",
      "Episode  49000 Score  -200.0 epsilon %.3f 0.01\n"
     ]
    },
    {
     "data": {
      "image/png": "[encoded data removed]",
      "text/plain": [
       "<Figure size 432x288 with 1 Axes>"
      ]
     },
     "metadata": {
      "needs_background": "light"
     },
     "output_type": "display_data"
    }
   ],
   "source": [
    "## Now we are going to make maxAction Function, we need to do this because numpy arc max function would not do precisely\n",
    "## what we want because we are dealing with dictionary\n",
    "\n",
    "def max_action(Q, state, actions = [0,1,2]):            ## we have to go from dictionary to numpy array. we use this function\n",
    "    values = np.array([Q[state, a] for a in actions])   ## for both epsilon greedy action selection and for updating ourestimate\n",
    "    action = np.argmax(values)                          ## for the Q-Table \n",
    "    return action\n",
    "    \n",
    "\n",
    "\n",
    "## Now we're gonna test our above Functions\n",
    "if \"_name_ == _main_\":\n",
    "    env=gym.make('MountainCar-v0')\n",
    "    ## HyperParameters\n",
    "    alpha = 0.1\n",
    "    gamma = 0.99\n",
    "    eps = 1\n",
    "    n_games = 50000\n",
    "    states = []\n",
    "    for position in range(21):\n",
    "        for velocity in range(21):\n",
    "            states.append((position, velocity))\n",
    "    Q = {}\n",
    "    for state in states:\n",
    "        for action in [0,1,2]:\n",
    "            Q[state, action] = 0\n",
    "    \n",
    "    \n",
    "    score = 0\n",
    "    total_rewards = np.zeros(n_games)\n",
    "    for i in range(n_games):\n",
    "        done = False\n",
    "        obs = env.reset()\n",
    "        state = get_state(obs)\n",
    "        if i%1000 == 0 and i > 0:\n",
    "            print('Episode ', i, 'Score ', score, 'epsilon %.3f', eps)\n",
    "        score = 0\n",
    "        while not done:\n",
    "            action = np.random.choice([0,1,2]) if np.random.random() < eps else max_action(Q, state) \n",
    "                                                                                  ## We want random number and we want random action if that random number is less than epsilon\n",
    "            obs_, reward, done, info = env.step(action)  ## Otherwise you want to take max_action\n",
    "            state_ = get_state(obs_)\n",
    "            score += reward\n",
    "            action_ = max_action(Q, state_)\n",
    "            Q[state, action] = Q[state, action] + alpha*(reward + gamma*Q[state_,action_] - Q[state,action])\n",
    "            state = state_\n",
    "        total_rewards[i] = score\n",
    "        eps = eps - 2/n_games if eps > 0.01 else 0.01   ## Reducing Epsilon by the time\n",
    "    \n",
    "    mean_rewards = np.zeros(n_games)\n",
    "    for t in range(n_games):\n",
    "        mean_rewards[t] = np.mean(total_rewards[max(0, t-50):(t+1)])\n",
    "    plt.plot(mean_rewards)\n",
    "    plt.xlabel('Episodes')\n",
    "    plt.ylabel('Score')\n",
    "    plt.savefig('mountainCar.png')"
   ]
  },
  {
   "cell_type": "code",
   "execution_count": null,
   "metadata": {},
   "outputs": [],
   "source": []
  }
 ],
 "metadata": {
  "kernelspec": {
   "display_name": "Python 3",
   "language": "python",
   "name": "python3"
  },
  "language_info": {
   "codemirror_mode": {
    "name": "ipython",
    "version": 3
   },
   "file_extension": ".py",
   "mimetype": "text/x-python",
   "name": "python",
   "nbconvert_exporter": "python",
   "pygments_lexer": "ipython3",
   "version": "3.7.6"
  }
 },
 "nbformat": 4,
 "nbformat_minor": 4
}
